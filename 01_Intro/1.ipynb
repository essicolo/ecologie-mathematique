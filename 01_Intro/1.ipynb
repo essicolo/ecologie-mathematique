{
 "cells": [
  {
   "cell_type": "markdown",
   "metadata": {
    "toc": "true"
   },
   "source": [
    " # Table of Contents\n",
    "<div class=\"toc\" style=\"margin-top: 1em;\"><ul class=\"toc-item\" id=\"toc-level0\"><li><span><a href=\"http://localhost:8888/notebooks/Lien%20vers%20ulaval/cours/cours-EM/_EM-github/1_Intro/1.ipynb#Introduction\" data-toc-modified-id=\"Introduction-1\"><span class=\"toc-item-num\">1&nbsp;&nbsp;</span>Introduction</a></span><ul class=\"toc-item\"><li><span><a href=\"http://localhost:8888/notebooks/Lien%20vers%20ulaval/cours/cours-EM/_EM-github/1_Intro/1.ipynb#Définitions\" data-toc-modified-id=\"Définitions-1.1\"><span class=\"toc-item-num\">1.1&nbsp;&nbsp;</span>Définitions</a></span></li><li><span><a href=\"http://localhost:8888/notebooks/Lien%20vers%20ulaval/cours/cours-EM/_EM-github/1_Intro/1.ipynb#À-qui-s'adresse-ce-manuel?\" data-toc-modified-id=\"À-qui-s'adresse-ce-manuel?-1.2\"><span class=\"toc-item-num\">1.2&nbsp;&nbsp;</span>À qui s'adresse ce manuel?</a></span></li><li><span><a href=\"http://localhost:8888/notebooks/Lien%20vers%20ulaval/cours/cours-EM/_EM-github/1_Intro/1.ipynb#Les-logiciels-libres\" data-toc-modified-id=\"Les-logiciels-libres-1.3\"><span class=\"toc-item-num\">1.3&nbsp;&nbsp;</span>Les logiciels libres</a></span></li><li><span><a href=\"http://localhost:8888/notebooks/Lien%20vers%20ulaval/cours/cours-EM/_EM-github/1_Intro/1.ipynb#Langage-de-programmation\" data-toc-modified-id=\"Langage-de-programmation-1.4\"><span class=\"toc-item-num\">1.4&nbsp;&nbsp;</span>Langage de programmation</a></span><ul class=\"toc-item\"><li><span><a href=\"http://localhost:8888/notebooks/Lien%20vers%20ulaval/cours/cours-EM/_EM-github/1_Intro/1.ipynb#Python\" data-toc-modified-id=\"Python-1.4.1\"><span class=\"toc-item-num\">1.4.1&nbsp;&nbsp;</span>Python</a></span></li><li><span><a href=\"http://localhost:8888/notebooks/Lien%20vers%20ulaval/cours/cours-EM/_EM-github/1_Intro/1.ipynb#Pourquoi-pas-R?\" data-toc-modified-id=\"Pourquoi-pas-R?-1.4.2\"><span class=\"toc-item-num\">1.4.2&nbsp;&nbsp;</span>Pourquoi pas R?</a></span></li><li><span><a href=\"http://localhost:8888/notebooks/Lien%20vers%20ulaval/cours/cours-EM/_EM-github/1_Intro/1.ipynb#Pourquoi-pas-Matlab?\" data-toc-modified-id=\"Pourquoi-pas-Matlab?-1.4.3\"><span class=\"toc-item-num\">1.4.3&nbsp;&nbsp;</span>Pourquoi pas Matlab?</a></span></li><li><span><a href=\"http://localhost:8888/notebooks/Lien%20vers%20ulaval/cours/cours-EM/_EM-github/1_Intro/1.ipynb#Pourquoi-pas-__-?\" data-toc-modified-id=\"Pourquoi-pas-__-?-1.4.4\"><span class=\"toc-item-num\">1.4.4&nbsp;&nbsp;</span>Pourquoi pas <strong>__</strong> ?</a></span></li></ul></li><li><span><a href=\"http://localhost:8888/notebooks/Lien%20vers%20ulaval/cours/cours-EM/_EM-github/1_Intro/1.ipynb#Comment-lire-ce-manuel?\" data-toc-modified-id=\"Comment-lire-ce-manuel?-1.5\"><span class=\"toc-item-num\">1.5&nbsp;&nbsp;</span>Comment lire ce manuel?</a></span></li><li><span><a href=\"http://localhost:8888/notebooks/Lien%20vers%20ulaval/cours/cours-EM/_EM-github/1_Intro/1.ipynb#Lectures-complémentaires\" data-toc-modified-id=\"Lectures-complémentaires-1.6\"><span class=\"toc-item-num\">1.6&nbsp;&nbsp;</span>Lectures complémentaires</a></span><ul class=\"toc-item\"><li><span><a href=\"http://localhost:8888/notebooks/Lien%20vers%20ulaval/cours/cours-EM/_EM-github/1_Intro/1.ipynb#Écologie-mathématique\" data-toc-modified-id=\"Écologie-mathématique-1.6.1\"><span class=\"toc-item-num\">1.6.1&nbsp;&nbsp;</span>Écologie mathématique</a></span></li><li><span><a href=\"http://localhost:8888/notebooks/Lien%20vers%20ulaval/cours/cours-EM/_EM-github/1_Intro/1.ipynb#Programmation\" data-toc-modified-id=\"Programmation-1.6.2\"><span class=\"toc-item-num\">1.6.2&nbsp;&nbsp;</span>Programmation</a></span></li><li><span><a href=\"http://localhost:8888/notebooks/Lien%20vers%20ulaval/cours/cours-EM/_EM-github/1_Intro/1.ipynb#Divers\" data-toc-modified-id=\"Divers-1.6.3\"><span class=\"toc-item-num\">1.6.3&nbsp;&nbsp;</span>Divers</a></span></li></ul></li><li><span><a href=\"http://localhost:8888/notebooks/Lien%20vers%20ulaval/cours/cours-EM/_EM-github/1_Intro/1.ipynb#Besoin-d'aide?\" data-toc-modified-id=\"Besoin-d'aide?-1.7\"><span class=\"toc-item-num\">1.7&nbsp;&nbsp;</span>Besoin d'aide?</a></span></li><li><span><a href=\"http://localhost:8888/notebooks/Lien%20vers%20ulaval/cours/cours-EM/_EM-github/1_Intro/1.ipynb#À-propos-de-l'auteur\" data-toc-modified-id=\"À-propos-de-l'auteur-1.8\"><span class=\"toc-item-num\">1.8&nbsp;&nbsp;</span>À propos de l'auteur</a></span></li><li><span><a href=\"http://localhost:8888/notebooks/Lien%20vers%20ulaval/cours/cours-EM/_EM-github/1_Intro/1.ipynb#Un-cours-complémentaire-à-d'autres-cours\" data-toc-modified-id=\"Un-cours-complémentaire-à-d'autres-cours-1.9\"><span class=\"toc-item-num\">1.9&nbsp;&nbsp;</span>Un cours complémentaire à d'autres cours</a></span></li><li><span><a href=\"http://localhost:8888/notebooks/Lien%20vers%20ulaval/cours/cours-EM/_EM-github/1_Intro/1.ipynb#Contribuer-au-manuel\" data-toc-modified-id=\"Contribuer-au-manuel-1.10\"><span class=\"toc-item-num\">1.10&nbsp;&nbsp;</span>Contribuer au manuel</a></span></li><li><span><a href=\"http://localhost:8888/notebooks/Lien%20vers%20ulaval/cours/cours-EM/_EM-github/1_Intro/1.ipynb#Remerciements\" data-toc-modified-id=\"Remerciements-1.11\"><span class=\"toc-item-num\">1.11&nbsp;&nbsp;</span>Remerciements</a></span></li><li><span><a href=\"http://localhost:8888/notebooks/Lien%20vers%20ulaval/cours/cours-EM/_EM-github/1_Intro/1.ipynb#Références\" data-toc-modified-id=\"Références-1.12\"><span class=\"toc-item-num\">1.12&nbsp;&nbsp;</span>Références</a></span></li></ul></li></ul></div>"
   ]
  },
  {
   "cell_type": "markdown",
   "metadata": {},
   "source": [
    "# Introduction\n",
    "\n",
    "Les mathémtiques confèrent aux humains une capacité d'abstraction suffisamment complexe pour leur permettre de toucher les étoiles et les atomes, d'assembler la pensée pour mieux apprécier l'histoire et de prédire le futur, de toucher l'infini et de goûter à l'éternité. Les avancés des outils de calcul permettent de projeter des images de l'univers, bien au-delà de la Voie lactée. Appréhender le vivant par demeure néanmoins une tâche complexe.\n",
    "\n",
    "En développant son jeu de la vie (*game of life*) en 1970, John Horton Connway a présenté un exemple percutant que des règles simples peuvent mener à des résultats innatendus. Le jeu consiste à placer des jetons sur les cases d'un plateau de jeu consistant en une simple grille othogonale. Le jeu évolue en fonction du nombre de jetons présents parmi les huit cases du voisinage des jetons ou des cases vides.\n",
    "\n",
    "1. Les jetons ayant 0 ou 1 voisin sont retirés.\n",
    "2. Les jetons ayant 2 ou 3 voisins restent intacts\n",
    "3. Les jetons ayant plus de 3 voisins sont retirés\n",
    "4. Un jeton est posé sur les cases ayant exactement 3 voisins \n",
    "\n",
    "C'est tout. Selon la manière dont les jetons sont placés au départ, il se peut que la grille se vide de ses jetons, ou que les jetons y prennent beaucoup de place. Il arrive aussi que des cycles réguliers se dégagent ou que l'on se retrouve avec des formes régulières. Vous aurez peut-être compris à ce stade pourquoi le jeu est appelé \"jeu de la vie\". La première règle est une situation localisée de sous-population, condition dans laquelle la reproduction est difficile. La deuxième règle est une situation localisée statble. La troisième est une situation de surpopulation, où des individus meurent par un environnement rendu inadéquat par insuffisance de ressource ou surplus de toxicité. Enfin, la quatrième indique une situation favorable à la reproduction.\n",
    "\n",
    "Une grille vidée correspond à une extinction et une grille remplie correspond à une explosion de population. Une oscillation est un \"climax\", un état stable en écologie. Un léger changement initial dans la disposition initiale des jetons peu mener à des solutions différentes.\n",
    "\n",
    "Le jeu, qui en fait est une application de la technique des *automates cellulaires*, se complexifie à mesure que le nombre de jetons grandit. Un humain passera des heures à calculer une ittération à 50 jetons, commettra probablement quelques erreurs et demandera quelques cafés. Un processeur pourra gérer des centaines d'ittérations sur des grilles de centaines de jetons en quelques secondes.\n",
    "\n",
    "En établissant des règles correspondant aux mécanismes de l'objet étudié, il devient possible de modéliser l'évolution des systèmes vivants, comme l'émergence d'espèces invasives.\n",
    "\n",
    "<img src=\"https://media.giphy.com/media/dkaEYYiCDclAA/giphy.gif?response_id=5925bb98f431280237d48493\" width=300>\n",
    "\n",
    "<div align=\"center\">Simulation avec automates cellulaires. Source: Anynyme, publié sur [Giphy](https://giphy.com/gifs/misc-dkaEYYiCDclAA).</div>"
   ]
  },
  {
   "cell_type": "markdown",
   "metadata": {},
   "source": [
    "## Définitions\n",
    "\n",
    "<p style=\"padding:0px 30px; float:left;\">\n",
    "    <img src=\"images/disciplines.png\" width=280 style=\"padding:5px;\">\n",
    "    Carte des domaines de l'écologie mathématique\n",
    "</p>\n",
    "\n",
    "L'écologie mathématique couvre un large spectre de domaines, mais peut être divisée en deux branches: l'**écologie théorique** et l'**écologie quantitative** (Legendre et legendre, 2012). Alors que l'écologie théorique s'intéresse à l'expression mathématique des mécanismes écologiques, l'écologie quantitative, plus empirique, en étudie principalement les phénomènes. La **modélisation écologique** vise à prévoir une situation selon des conditions données. Faisant partie à la fois de l'écologie théorique et de l'écologie quantitative, elle superpose souvent des mécanismes de l'écologie théorique et des phénomènes empiriques de l'écologie quantitative. L'**écologie numérique** comprend la branche descriptive de l'écologie quantitative, c'est-à-dire qu'elle s'intéresse à évaluer des effets à partir de données empiriques. L'exploration des données dans le but d'y découvrir des structures passe souvent par des techniques multivariées comme la classification hiérarchique ou la réduction d'axe (par exemple, l'analyse en composantes principales), qui sont davantage heuristiques (dans notre cas, **bioheuristique**) que statistiques. Les tests d'hypothèses et l'analyse des probabilités, quand à eut, relèvent de la **biostatistique**.\n",
    "\n",
    "Le **génie écologique**, une dicipline intimement liée à l'écologie mathématique, est vouée à l'analyse, la modélisation, la conception et la construction de systèmes vivants dans le but de résoudre de manière efficace des problèmes liés à l'écologie et une panoplie de domaines qui lui sont raccordés. L'agriculture est l'un de ces domaines. C'est d'emblée la discipline qui sera prisée dans ce manuel. Néanmoins, les principes qui seront discutés sont transférable à l'écologie générale comme à la foresterie."
   ]
  },
  {
   "cell_type": "markdown",
   "metadata": {},
   "source": [
    "## À qui s'adresse ce manuel?\n",
    "\n",
    "Ce manuel est distribué librement (license [MIT](LIEN)) créé dans un environnement intéractif de type *carnet de notes* ([Jupyter lab](https://jupyter.org), [nteract](https://nteract.io)). Ce format permet aussi de travailler avec le langage de programmation Python, qui sera ici l'outil privilégié pour le calcul scientifique.\n",
    "\n",
    "Le cours vise à introduire des étudiants gradués en agronomie, biologie, écologie, sols, génie agroenvironnemental, génie civil et génie écologique à l'analyse et la modélisation dans leur domaine, tant pour les appuyer pour leurs travaux de recherche que pour leur fournir une trousse d'outil émancipatrice pour leur cheminement professionnel. Plus spécifiquement, vous serez accompagné à découvrir différents outils numériques qui vous permettront d'appréhender vos données, d'en faire émerger l'information et de construire des modèles. En ce sens, c'est un cours de pilotage, pas un cours de mécanique.\n",
    "\n",
    "Bien que des connaissances en programmation et en statistiques aideront grandement les étudiant⦁e⦁s à appréhender ce document, une littéracie informatique n'est pas requise. Dans tous les cas, quiconque voudra tirer profit de ce manuel devra faire preuve d'autonomie. Vous serez guidés vers des ressources et des références, mais je vous suggère vivement de développer votre propre bibliothèque adaptée à vos besoins et à votre manière de comprendre."
   ]
  },
  {
   "cell_type": "markdown",
   "metadata": {},
   "source": [
    "## Les logiciels libres\n",
    "\n",
    "Tous les outils numériques qui sont proposés dans ce cours sont des logiciels libres:\n",
    "\n",
    "> « Logiciel libre » [free software] désigne des logiciels qui respectent la liberté des utilisateurs. En gros, cela veut dire que les utilisateurs ont la liberté d'exécuter, copier, distribuer, étudier, modifier et améliorer ces logiciels. Ainsi, « logiciel libre » fait référence à la liberté, pas au prix1 (pour comprendre ce concept, vous devez penser à « liberté d'expression », pas à « entrée libre »). - [Projet GNU](https://www.gnu.org/philosophy/free-sw.fr.html)\n",
    "\n",
    "Donc: codes sources ouverts, développement souvent communautaire, gratuité. Plusieurs [raisons éthiques](https://www.youtube.com/watch?v=Ag1AKIl_2GM), principalement liées au contrôle de l'environnement virtuel par les utilisateurs et les communautés, peuvent justifier l'utilisation de logiciels libres. Plusieurs raisons pratiques justifient aussi cette orientation. Les logiciels libres vous permettent de transporter vos outils avec vous, d'une entreprise à l'autre, au bureau, ou à la maison, et ce, sans vous soucier d'acheter de coûteuses licences.\n",
    "\n",
    "On soulève avec justesse les risques liés aux possibles erreurs dans les codes des logiciels communautaires. Pour les scientifiques, une erreur peu mener à une étude retirée de la littérature et même, potentiellement, des politiques publiques mal avisées. Pour les ingénieurs, les conséquences pourraient être dramatiques. **Comme professionnel.le, vous êtes responsable des outils que vous utilisez: vous devez vous assurer de la bonne qualité d'un logiciel, qu'il soit propriétaire ou communautaire**. Alors que la qualité des logiciels propriétaires est généralement suivie par audits, celle des logiciels libres est plutôt soumise à la vigilance communautaire. Chaque approche a ses avantages et inconvénients, mais elles ne sont pas exclusives. Ainsi les logiciels libres peuvent être audités à l'externe par quiconque décide de le faire. Différentes entreprises, souvent concurantes, participent tant à cette vigilance qu'au développement des logiciels libres: elles en sont même souvent les instigatrices."
   ]
  },
  {
   "cell_type": "markdown",
   "metadata": {},
   "source": [
    "## Langage de programmation\n",
    "\n",
    "### Python\n",
    "Ce cours est basé sur le langage Python. En plus d'être libre, Python est un langage de programmation dynamique et générique apprécié pour sa polyvalence et sa simplicité. Son développement est supporté par la [Python Software Foundation](https://www.python.org/psf/). Python est utilisé autant pour créer des logiciels ou des sites web que pour le calcul scientifique. Ainsi, Python peut être utilisé en interopérabilité avec une panoplie de logiciels libres, comme [QGIS](http://www.qgis.org) pour la cartorgaphie et [FreeCAD](https://github.com/FreeCAD/FreeCAD) pour le dessin technique. Mais par dessus tout, une fois implémenté avec des modules de calcul scientifique (que nous couvrirons au long du cours), Python devient un outil de calcul convivial, rapide et fiable pour le calcul écologique.\n",
    "\n",
    "![](https://imgs.xkcd.com/comics/python.png)\n",
    "\n",
    "<div align=\"center\">Source: [xkcd](https://xkcd.com/353/)</div>\n",
    "\n",
    "### Pourquoi pas R?\n",
    "Des comparaisons peuvent inévitablement être dressées avec des langages offrant des possibilités similaires. En particulier, [R](https://www.r-project.org/) est un langage de programmation orienté pour le calcul statistique. Davantage que Python à ce jour, R comprend une quantité impressionnante de modules destinés à toutes sortes d'applications scientifiques. Il est prisé en biologie, en écologie et en agronomie pour sa simplicité et la grande qualité de ses modules. Sa popularité reste moindre pour effectuer des calculs numériques liés à l'ingénierie ou pour déployer des algorithmes sous forme de logiciel.\n",
    "\n",
    "Bien que leurs possibilités se superposent largement, ce serait une erreur d'aborder R et Python comme des langages rivaux. Les deux sont similaire et s'inspirent mutuellement: apprendre à travailler avec l'un vient à apprendre l'autre. Par ailleurs, les spécialistes en calcul scientifique tendent à apprendre à travailler avec plus d'un langage de programmation.\n",
    "\n",
    "### Pourquoi pas Matlab?\n",
    "Parce qu'on est en 2017.\n",
    "\n",
    "### Pourquoi pas ______ ?\n",
    "D'autres languages realtivement similaires à Python, comme [Julia](http://julialang.org), [Scala](http://www.scala-lang.org) et [Ruby](http://sciruby.com), sont aussi utilisés en calcul scientifique. Ils sont néanmoins moins garnis et moins documentés que Python. Des languages de plus bas niveau, comme Fortran et C++, viennent souvent appuyer les fonctions des autres langages: ces langages sont plus ardus à utiliser au jour le jour, mais leur rapidité de calcul est imbatable."
   ]
  },
  {
   "cell_type": "markdown",
   "metadata": {},
   "source": [
    "## Comment lire ce manuel?"
   ]
  },
  {
   "cell_type": "markdown",
   "metadata": {},
   "source": [
    "## Lectures complémentaires\n",
    "### Écologie mathématique\n",
    "\n",
    "- [How to be a quantitative ecologist](). Jason Mathipoulos vous prend par la main pour découvrir les notions de mathématiques fondamentales en écologie, appliquées avec le langage R.  \n",
    "- [Numerical ecology](https://www.elsevier.com/books/numerical-ecology/legendre/978-0-444-53868-0). L'ouvrage hautement détaillé des frères Legendre est non seulement fondamental, mais aussi fondateur d'une science qui évolue encore aujourd'hui: l'analyse des données écologiques.\n",
    "- [A practical guide to ecological modelling](http://www.springer.com/us/book/9781402086236). Soetaert et Herman portent une attention particulière à la présentation des principes de modélisation dans un langage accessible - ce qui est rarement le cas dans le domaine de la modélisation. Les modèles présentés concernent principalement les bilans de masse, en terme de systèmes de réactions chimiques et de relations biologiques.\n",
    "- [Modélisation mathématique en écologie](http://www.documentation.ird.fr/hor/fdi:010050350). Rare livre en modélisation écologique publié en français, la première partie s'attarde aux concepts mathématiques, alors que la deuxième planche à les appliquer. Si le haut niveau d'abstraction de la première partie vous rebute, n'hésitez pas débuter par la seconde partie et de vous référer à la première au besoin.\n",
    "- [A new ecology: systems perspective](https://www.elsevier.com/books/a-new-ecology/jorgensen/978-0-444-53160-5). Principalement grâce au soleil, la Terre forme un ensemble de gradients d'énergie qui se déclinent en des systèmes d'une étonnante complexité. C'est ainsi que le regreté Sven Erik Jørgensen (1934-2016) et ses collaborateurs décrivent les écosystèmes dans cet ouvrage qui fait suite aux travaux fondateurs de Howard Thomas Odum.\n",
    "\n",
    "![](images/sven-jorgensen.png)\n",
    "<p style=\"text-align: center\">[Sven Erik Jørgensen](http://scitechconnect.elsevier.com/in-memoriam-of-dr-sven-erik-jorgensen/)</p>\n",
    "\n",
    "- Ecological engineering. Principle and Practice.\n",
    "- Ecological processes handbook.\n",
    "- Modeling complex ecological dynamics\n",
    "\n",
    "\n",
    "### Programmation\n",
    "- [Python for data analysis](http://shop.oreilly.com/product/0636920023784.do). L'analyse de données est une branche importante de l'écologie mathématique. Ce manuel traite des matrices et la manipulation de données chapitre 3), de la visualisation (chapitre 4) ainsi que de l'apprentissage automatique (chapitre 11). Python for data analysis repasse ces sujets plus en profondeur. En particulier, l'ouvrage de Jake Vanderplas offre une introduction au module graphique `matplotlib`, à peine survolée dans ce manuel pour éviter les maux de tête. L'appropriation de `matplotlib` peut être difficile, mais l'approche de Jake Vanderplas est douce et efficace. Le livre est disponible gratuitement [ici](https://jakevdp.github.io/PythonDataScienceHandbook/).\n",
    "- [Numerical ecology with R](http://www.springer.com/la/book/9781441979759). Daniel Borcard enseigne l'écologie numérique à l'Université de Montréal. Son cours est condensé dans ce livre recettes voué à l'application des principes lourdement décrits dans [Numerical ecology](https://www.elsevier.com/books/numerical-ecology/legendre/978-0-444-53868-0).\n",
    "- [Soil physics with Python](https://global.oup.com/academic/product/soil-physics-with-python-9780199683093?cc=ca&lang=en&).\n",
    "- Python geospatial development\n",
    "\n",
    "### Divers\n",
    "- [The truthful art](http://www.thefunctionalart.com/p/the-truthful-art-book.html). Dans cet ouvrage, Alberto Cairo s'intéresse à l'utilisation des données et de leurs présentation pour fournir une information adéquate à différents publics."
   ]
  },
  {
   "cell_type": "markdown",
   "metadata": {},
   "source": [
    "## Besoin d'aide?\n",
    "\n",
    "Les ouvrages de référence reconnus vous offrent des bases solides sur lesquelles vous pouvez vous appuyer dans vos travaux. Mais au delà des principes, au jour le jour, vous vous butterez inmanquablement à toutes sortes de petits problèmes. Quel module utiliser pour cette tâche précise? Que veut dire ce message d'erreur? Comment interpréter ce résultat? Pour tous les petits accorcs du quotidien en calcul scientifique, internet offre de nombreuses ressources qui sont très hétérogènes en qualité. Vous aprendrez à reconnaître les ressources fiables à celles qui sont douteuses. Les plate formes basées sur Stack Exchange, comme [Stack Overflow](https://stackoverflow.com) et [Cross Validated](https://stats.stackexchange.com), m'ont souvent été d'une aide précieuse. Vous aurez avantage à vous contruire une petite banque d'information ([Framanotes](https://framanotes.org), Evernote, Google keep) en collectant des liens, en prenant en notes certaines recettes et en suivant des sites d'intérêt avec des flux RSS."
   ]
  },
  {
   "cell_type": "markdown",
   "metadata": {},
   "source": [
    "## À propos de l'auteur\n",
    "Je m'appelle Serge-Étienne Parent. Je suis ingénieur écologue et professeur adjoint au Département des sols et de génie agroalimentaire de l'Université Laval, Québec, Canada. Je crois que la science est le meilleur moyen d'appréhender le monde pour prendre des décisions avisées, particulièrement en écologie, une science maltraitée de toute part."
   ]
  },
  {
   "cell_type": "markdown",
   "metadata": {},
   "source": [
    "## Un cours complémentaire à d'autres cours\n",
    "\n",
    "Ce cours a été développé pour ouvrir des perspectives mathématiques en écologie et en agronomie à la FSAA de l'Université Laval. Il est complémentaire à certains cours offerts dans d'autres institutions académiques au Québec, dont ceux-ci.\n",
    "\n",
    "- [BIO2041. Biostatistiques 1](https://admission.umontreal.ca/cours-et-horaires/cours/bio-2041/), Université de Montréal\n",
    "- [BIO2042. Biostatistiques 2](https://admission.umontreal.ca/cours-et-horaires/cours/BIO-2042/), Université de Montréal\n",
    "- [BIO109. Introduction à la programmation scientifique](https://github.com/EcoNumUdS/BIO109), Université de Sherbrooke\n",
    "- [BIO500. Méthodes en écologie computationnelle](https://github.com/EcoNumUdS/BIO500), Université de Sherbrooke."
   ]
  },
  {
   "cell_type": "markdown",
   "metadata": {},
   "source": [
    "## Contribuer au manuel\n",
    "\n",
    "Je suis ouvert au commentaires et suggestions. Pour contribuer directement, dirigez-vous sur le dépôt du manuel sur [GitHub](), puis ouvrez une Issue pour en discuter. Créez une nouvelle branche (*fork*), effectuez les modification, puis lancer une requête de fusion (*pull resquest*)."
   ]
  },
  {
   "cell_type": "markdown",
   "metadata": {},
   "source": [
    "## Remerciements"
   ]
  },
  {
   "cell_type": "markdown",
   "metadata": {
    "inputHidden": false,
    "outputHidden": false
   },
   "source": [
    "## Références\n"
   ]
  }
 ],
 "metadata": {
  "anaconda-cloud": {},
  "kernel_info": {
   "name": "python3"
  },
  "kernelspec": {
   "display_name": "Python [default]",
   "language": "python",
   "name": "python3"
  },
  "language_info": {
   "codemirror_mode": {
    "name": "ipython",
    "version": 3
   },
   "file_extension": ".py",
   "mimetype": "text/x-python",
   "name": "python",
   "nbconvert_exporter": "python",
   "pygments_lexer": "ipython3",
   "version": "3.6.2"
  },
  "toc": {
   "nav_menu": {},
   "number_sections": true,
   "sideBar": true,
   "skip_h1_title": false,
   "toc_cell": true,
   "toc_position": {},
   "toc_section_display": "block",
   "toc_window_display": true
  },
  "varInspector": {
   "cols": {
    "lenName": 16,
    "lenType": 16,
    "lenVar": 40
   },
   "kernels_config": {
    "python": {
     "delete_cmd_postfix": "",
     "delete_cmd_prefix": "del ",
     "library": "var_list.py",
     "varRefreshCmd": "print(var_dic_list())"
    },
    "r": {
     "delete_cmd_postfix": ") ",
     "delete_cmd_prefix": "rm(",
     "library": "var_list.r",
     "varRefreshCmd": "cat(var_dic_list()) "
    }
   },
   "types_to_exclude": [
    "module",
    "function",
    "builtin_function_or_method",
    "instance",
    "_Feature"
   ],
   "window_display": false
  }
 },
 "nbformat": 4,
 "nbformat_minor": 2
}
