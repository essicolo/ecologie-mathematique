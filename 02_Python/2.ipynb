{
 "cells": [
  {
   "cell_type": "markdown",
   "metadata": {},
   "source": [
    "# Chapitre 2 : Python\n",
    "\n",
    "Le python est une famille de reptile avec pas de pattes comprenant 10 espèces. Mais [Python](https://www.python.org/about/) est un langage de programmation lancé en 1991 par Guido van Rossum, un fan du groupe d'humoriste britanique Mounty Python. \n",
    "\n",
    "[![](https://media.giphy.com/media/RzKHvdYC3uds4/giphy.gif)](https://www.youtube.com/watch?v=iV2ViNJFZC8)\n",
    "Source: *Ministry of silly walks*, Mounty Python\n",
    "\n",
    "Python figure parmi les langages de programmation les plus utilisés au monde. Il s'agit d'un langage dynamique, c'est à dire que le code peut être exécuté ligne par ligne ou bloc par bloc: un avantage majeur pour des activités qui nécessitent des intéractions fréquentes. Bien que Python soit surtout utilisé pour créer des applications, il s'impose de plus en plus comme outil privilégié pour le calcul scientifique en raison des récents développements de bibliothèques d'analyse, de modélisation et de visualisation, dont plusieurs seront utilisés dans ce manuel."
   ]
  },
  {
   "cell_type": "markdown",
   "metadata": {},
   "source": [
    "## Préparer son ordinateur"
   ]
  },
  {
   "cell_type": "markdown",
   "metadata": {},
   "source": [
    "### Installer Python\n",
    "\n",
    "Installer et gérer Python sur un ordinateur serait une tâche plutôt ardue si ce n'était de la distribution [Anaconda](https://www.continuum.io/downloads), spécialisée pour le calcul scientifique. Anaconda est distribué librement sur Linux, Windows et OS X (il existe d'autres distribution Python équivalentes, notamment [Enthought](http://www.enthought.com) et [Python(x,y)](http://python-xy.github.io/)). Il est possible de travailler sur Python en mode infonuagique, notamment avec [SageMath](https://cloud.sagemath.com/). Toutefois, l'option nuagique n'est en ce moment pas à la hauteur d'un environnement local en terme d'efficacité, de polyvalence et d'autonomie. \n",
    "\n",
    "Sur Windows et sur OS X, téléchargez et installez! Sur Linux, téléchargez, ouvrez un terminal, naviguez dans le répertoire de téléchargement (par exemple `cd ~/Téléchargements`), puis lancez la commande spécifiée sur la page de téléchargement, par exemple `bash Anaconda3-4.3.1-Linux-x86_64.sh`.\n",
    "\n",
    "**Note**. Les modules présentés dans ce cours devraient être disponibles sur Linux, Windows et Mac. Ce n'est pas le cas pour *tous* les modules Python. La plupart fonctionnent néanmoins sur Linux. Que ce soit sur [Ubuntu](https://www.ubuntu.com/), l'une de ses nombreuses dérivées ([Elementary](https://elementary.io/), [Linux Mint](https://linuxmint.com/), [KDE Neon](https://neon.kde.org/), etc.), sous [Debian](https://www.debian.org), [openSUSE](https://www.opensuse.org/), [Arch](https://antergos.com/), [Fedora](https://getfedora.org/) ou autre, les systèmes d'opération Linux sont de bonnes options pour le calcul scientifique."
   ]
  },
  {
   "cell_type": "markdown",
   "metadata": {},
   "source": [
    "## Premiers pas avec Python\n",
    "\n",
    "Voyons si Python est aussi libre qu'on le prétend. Si Python est bien installé sur votre ordinateur, la manière la plus directe de le lancer est en ouvrant un **terminal** (chercher `cmd` dans le menu si vous êtes sur Windows). Dans ce terminal, écrivez `python`, puis tapez enter. Vous devriez obtenir quelque chose comme ceci.\n",
    "\n",
    "![](images/terminal-prompt.png)\n",
    "\n",
    "Les symboles `>>>` forment ce que l'on nomme l'*invite de commande*. J'entre ici les commandes dans le carnet, mais pour l'instant, entrez-les dans le terminal (on débutera avec les carnets un peu plus loin).\n",
    "\n",
    "### Opérations de base"
   ]
  },
  {
   "cell_type": "markdown",
   "metadata": {},
   "source": [
    "> \"La liberté, c’est la liberté de dire que deux et deux font quatre. Si cela est accordé, tout le reste suit.\" - George Orwell, 1984"
   ]
  },
  {
   "cell_type": "code",
   "execution_count": 7,
   "metadata": {
    "inputHidden": false,
    "outputHidden": false
   },
   "outputs": [
    {
     "data": {
      "text/plain": [
       "4"
      ]
     },
     "execution_count": 7,
     "metadata": {},
     "output_type": "execute_result"
    }
   ],
   "source": [
    "2+2"
   ]
  },
  {
   "cell_type": "code",
   "execution_count": 8,
   "metadata": {
    "inputHidden": false,
    "outputHidden": false
   },
   "outputs": [
    {
     "data": {
      "text/plain": [
       "23.799999999999997"
      ]
     },
     "execution_count": 8,
     "metadata": {},
     "output_type": "execute_result"
    }
   ],
   "source": [
    "67.1-43.3"
   ]
  },
  {
   "cell_type": "code",
   "execution_count": 9,
   "metadata": {
    "inputHidden": false,
    "outputHidden": false
   },
   "outputs": [
    {
     "data": {
      "text/plain": [
       "8"
      ]
     },
     "execution_count": 9,
     "metadata": {},
     "output_type": "execute_result"
    }
   ],
   "source": [
    "2*4"
   ]
  },
  {
   "cell_type": "code",
   "execution_count": 10,
   "metadata": {
    "inputHidden": false,
    "outputHidden": false
   },
   "outputs": [
    {
     "data": {
      "text/plain": [
       "16"
      ]
     },
     "execution_count": 10,
     "metadata": {},
     "output_type": "execute_result"
    }
   ],
   "source": [
    "2**4"
   ]
  },
  {
   "cell_type": "code",
   "execution_count": 11,
   "metadata": {
    "inputHidden": false,
    "outputHidden": false
   },
   "outputs": [
    {
     "data": {
      "text/plain": [
       "0.5"
      ]
     },
     "execution_count": 11,
     "metadata": {},
     "output_type": "execute_result"
    }
   ],
   "source": [
    "1/2"
   ]
  },
  {
   "cell_type": "code",
   "execution_count": 12,
   "metadata": {
    "inputHidden": false,
    "outputHidden": false
   },
   "outputs": [
    {
     "data": {
      "text/plain": [
       "0.5"
      ]
     },
     "execution_count": 12,
     "metadata": {},
     "output_type": "execute_result"
    }
   ],
   "source": [
    "1 / 2 # les espaces ne signifie rien ici"
   ]
  },
  {
   "cell_type": "markdown",
   "metadata": {},
   "source": [
    "Tout va bien pour l'instant. Remarquez que la dernière opération comporte des espaces entre les nombres et l'opérateur `/`. Dans ce cas (ce n'est pas toujours le cas), les espaces ne signifient rien - il est même suggéré de les placer pour éclaircir le code, ce qui est utile lorsque les équations sont complexes. Puis, après l'opération `1 / 2`, j'ai placé le symbole `#` suivi d'une note. Le symbole `#` est interprété par Python comme un ordre de ne pas considérer ce qui le suit. Cela est très utile pour insérer à même le code des commentaires pertinents pour mieux comprendre les opérations.\n",
    "\n",
    "Assigner des objets à des variables est fondamental en programmation. Par exemple."
   ]
  },
  {
   "cell_type": "code",
   "execution_count": 5,
   "metadata": {
    "collapsed": true,
    "inputHidden": false,
    "outputHidden": false
   },
   "outputs": [],
   "source": [
    "a = 3"
   ]
  },
  {
   "cell_type": "markdown",
   "metadata": {},
   "source": [
    "Techniquement, `a` pointe vers le nombre entier 3. Conséquemment, on peut effectuer des opérations sur `a`."
   ]
  },
  {
   "cell_type": "code",
   "execution_count": 6,
   "metadata": {
    "inputHidden": false,
    "outputHidden": false
   },
   "outputs": [
    {
     "data": {
      "text/plain": [
       "18"
      ]
     },
     "execution_count": 6,
     "metadata": {},
     "output_type": "execute_result"
    }
   ],
   "source": [
    "a * 6"
   ]
  },
  {
   "cell_type": "code",
   "execution_count": 7,
   "metadata": {
    "inputHidden": false,
    "outputHidden": false
   },
   "outputs": [
    {
     "ename": "NameError",
     "evalue": "name 'A' is not defined",
     "output_type": "error",
     "traceback": [
      "\u001b[1;31m---------------------------------------------------------------------------\u001b[0m",
      "\u001b[1;31mNameError\u001b[0m                                 Traceback (most recent call last)",
      "\u001b[1;32m<ipython-input-7-df3d83145d14>\u001b[0m in \u001b[0;36m<module>\u001b[1;34m()\u001b[0m\n\u001b[1;32m----> 1\u001b[1;33m \u001b[0mA\u001b[0m \u001b[1;33m+\u001b[0m \u001b[1;36m2\u001b[0m\u001b[1;33m\u001b[0m\u001b[0m\n\u001b[0m",
      "\u001b[1;31mNameError\u001b[0m: name 'A' is not defined"
     ]
    }
   ],
   "source": [
    "A + 2"
   ]
  },
  {
   "cell_type": "markdown",
   "metadata": {},
   "source": [
    "Le message d'erreur nous dit que `A` n'est pas défini. Sa version minuscule, `a`, l'est pourtant. La raison est que Python considère la *case* dans la définition des objets. Utiliser la mauvaise case mène donc à des erreurs.\n",
    "\n",
    "Le nom d'une variable doit toujours commencer par une lettre, et ne doit pas contenir de caractères réservés (espaces, `+`, `*`, `.`). Par convention, les objets qui commencent par une lettre majuscules sont utilisés pour définir des classes (modules), utiles pour le développement de logiciels, mais rarement utilisés dans le cadre d'un feuille de calcul scientifique."
   ]
  },
  {
   "cell_type": "code",
   "execution_count": 8,
   "metadata": {},
   "outputs": [
    {
     "data": {
      "text/plain": [
       "15000"
      ]
     },
     "execution_count": 8,
     "metadata": {},
     "output_type": "execute_result"
    }
   ],
   "source": [
    "rendement_arbre = 50 # pomme/arbre\n",
    "nombre_arbre = 300 # arbre\n",
    "nombre_pomme = rendement_arbre * nombre_arbre\n",
    "nombre_pomme"
   ]
  },
  {
   "cell_type": "markdown",
   "metadata": {},
   "source": [
    "### Types de données\n",
    "\n",
    "Jusqu'à maintenant, nous n'avons utilisé que des **nombres entiers** (*integer* ou `int`) et des **nombres réels** (*float* ou `float64`). Python inclue d'autres types. La **chaîne de caractère** (*string*) est un ou plusieurs symboles. Elle est définie entre des double-guillemets `\" \"` ou des apostrophes `' '`. Il n'existe pas de standard sur l'utilisation de l'un ou de l'autre, mais en règle générale, on utilise les apostrophe pour les experssions courtes, contenant un simple mot ou séquence de lettres, et les guillements pour les phrases. Une raison pour cela: les guillemets sont utiles pour insérer des apostrophes dans une chaîne de caractère."
   ]
  },
  {
   "cell_type": "code",
   "execution_count": 9,
   "metadata": {
    "inputHidden": false,
    "outputHidden": false
   },
   "outputs": [
    {
     "data": {
      "text/plain": [
       "\"L'ours polaire ressemble à un faux zèbre.\""
      ]
     },
     "execution_count": 9,
     "metadata": {},
     "output_type": "execute_result"
    }
   ],
   "source": [
    "a = \"L'ours\"\n",
    "b = \"polaire\"\n",
    "a + \" \" +  b + \" ressemble à un faux zèbre.\""
   ]
  },
  {
   "cell_type": "markdown",
   "metadata": {},
   "source": [
    "Notez que l'objet `a` a été défini précédemment. Il est possible en Python de réassigner une variable, mais cela peut porter à confusion, jusqu'à générer des erreurs de calcul si une variable n'est pas assigné à l'objet auquel on voulait référer.\n",
    "\n",
    "L'opérateur `+` sur des caractères retourne une concaténation.\n",
    "\n",
    "Combien de caractères contient la chaîne `\"L'ours polaire\"`? Python sait compter. Demandons-lui."
   ]
  },
  {
   "cell_type": "code",
   "execution_count": 10,
   "metadata": {
    "inputHidden": false,
    "outputHidden": false
   },
   "outputs": [
    {
     "data": {
      "text/plain": [
       "14"
      ]
     },
     "execution_count": 10,
     "metadata": {},
     "output_type": "execute_result"
    }
   ],
   "source": [
    "c = a + \" \" +  b\n",
    "len(c)"
   ]
  },
  {
   "cell_type": "markdown",
   "metadata": {},
   "source": [
    "Quatorze, c'est bien cela (comptez \"L'ours polaire\", en incluant l'espace). `len`, pour *lenght* (longueur), est une fonction (aussi appelée *méthode*) incluse par défaut dans l'environnement de travail de Python. La fonction est appelée en écrivant `len()`. Mais une fonction de quoi? Des arguments qui se trouvent entre les parenthèses. Dans ce cas, il y a un seul argument: `c`.\n",
    "\n",
    "En calcul scientifique, il est courrant de lancer des requêtes sur si une résultat est vrai ou faux."
   ]
  },
  {
   "cell_type": "code",
   "execution_count": 11,
   "metadata": {
    "inputHidden": false,
    "outputHidden": false
   },
   "outputs": [
    {
     "name": "stdout",
     "output_type": "stream",
     "text": [
      "False\n",
      "True\n",
      "False\n",
      "True\n",
      "True\n",
      "False\n"
     ]
    }
   ],
   "source": [
    "a = 17\n",
    "print(a < 10)\n",
    "print(a > 10)\n",
    "print(a == 10)\n",
    "print(a != 10)\n",
    "print(a == 17)\n",
    "print(~a == 17)"
   ]
  },
  {
   "cell_type": "markdown",
   "metadata": {},
   "source": [
    "Je viens d'introduire un nouveau type de donnée: les données booléennes (*boolean*, ou `bool`), qui ne peuvent prendre que deux états - `True` ou `False`. En même temps, j'ai utilisé la fonction `print` parce que dans mon carnet, seule la dernière opération permet d'afficher le résultat. Si l'on veut forcer une sortie, on utilise `print`. Puis, on a vu plus haut que le symbole `=` est réservé pour assigner des objets: pour les tests d'égalité, on utilise le double égal, `==`, ou `!=` pour la non égalité. Enfin, pour inverser une donnée de type booléenne, on utilise le symbole `~`.\n",
    "\n",
    "Pour les tests sur les chaînes de caractères, on utilisera `in` et son inverse `not in`."
   ]
  },
  {
   "cell_type": "code",
   "execution_count": 14,
   "metadata": {
    "inputHidden": false,
    "outputHidden": false
   },
   "outputs": [
    {
     "name": "stdout",
     "output_type": "stream",
     "text": [
      "False\n",
      "True\n",
      "False\n"
     ]
    }
   ],
   "source": [
    "print('o' in 'Ours')\n",
    "print('O' in 'Ours')\n",
    "print('O' not in 'Ours')"
   ]
  },
  {
   "cell_type": "markdown",
   "metadata": {},
   "source": [
    "### Les collections de données\n",
    "\n",
    "Les exercices précédents ont permis de présenter les types de données offerts par défault sur Python qui sont les plus importants pour le calcul scientifique: `int` (*integer*, ou nombre entier), `float64` (nombre réel), `str` (*string*, ou chaîne de caractère) et `bool` (booléen). D'autres s'ajouterons tout au long du cours, comme les unités de temps (date-heure), les catégories et les géométries (points, linges, polygones) géoréférencées. Lorsque l'on procède à des opérations de calcul en science, nous utilisons rarement des valeurs uniques. Nous préférons les oragniser et les traiter en collections. Par défaut, Python offre trois types importants: les **listes**, les **tuples** et les **dictionnaires**.\n",
    "\n",
    "D'abord, les **listes**, ou `list`, sont une série de variables sans restriction sur leur type. Elles peuvent même contenir d'autres listes. Une liste est délimitée par des crochets `[ ]`, et les éléments de la liste sont séparés par des virgules."
   ]
  },
  {
   "cell_type": "code",
   "execution_count": 15,
   "metadata": {
    "inputHidden": false,
    "outputHidden": false
   },
   "outputs": [
    {
     "data": {
      "text/plain": [
       "['Petromyzon marinus', 'Lepisosteus osseus', 'Amia calva', 'Hiodon tergisus']"
      ]
     },
     "execution_count": 15,
     "metadata": {},
     "output_type": "execute_result"
    }
   ],
   "source": [
    "espece = ['Petromyzon marinus', 'Lepisosteus osseus', 'Amia calva', 'Hiodon tergisus']\n",
    "espece"
   ]
  },
  {
   "cell_type": "markdown",
   "metadata": {},
   "source": [
    "Pour accéder aux éléments d'une liste, appelle la liste suivie de la position de l'objet désiré entre crochets. Fait important qui reviendra tout au long du cours: en Python, l'indice du premier élément est zéro."
   ]
  },
  {
   "cell_type": "code",
   "execution_count": 16,
   "metadata": {
    "inputHidden": false,
    "outputHidden": false
   },
   "outputs": [
    {
     "name": "stdout",
     "output_type": "stream",
     "text": [
      "Petromyzon marinus\n",
      "Amia calva\n",
      "['Petromyzon marinus', 'Lepisosteus osseus']\n",
      "['Amia calva', 'Hiodon tergisus']\n"
     ]
    }
   ],
   "source": [
    "print(espece[0])\n",
    "print(espece[2])\n",
    "print(espece[:2])\n",
    "print(espece[2:])"
   ]
  },
  {
   "cell_type": "markdown",
   "metadata": {},
   "source": [
    "Pour les deux dernières commandes, la position `:2` signifie jusqu'à 2 non inclusivement et `2:` signifie de 2 à la fin.\n",
    "\n",
    "Pour ajouter un élément à notre liste, on peut utiliser la fonction `append`."
   ]
  },
  {
   "cell_type": "code",
   "execution_count": 17,
   "metadata": {
    "inputHidden": false,
    "outputHidden": false
   },
   "outputs": [
    {
     "data": {
      "text/plain": [
       "['Petromyzon marinus',\n",
       " 'Lepisosteus osseus',\n",
       " 'Amia calva',\n",
       " 'Hiodon tergisus',\n",
       " 'Cyprinus carpio']"
      ]
     },
     "execution_count": 17,
     "metadata": {},
     "output_type": "execute_result"
    }
   ],
   "source": [
    "espece.append(\"Cyprinus carpio\")\n",
    "espece"
   ]
  },
  {
   "cell_type": "markdown",
   "metadata": {},
   "source": [
    "Notez que la fonction `append` est appelée après la variable et précédée un point. Cette manière de procéder est courrante en programmation orientée objet. La fonction `append` est un attribut d'un objet `list` et prend un seul argument: l'objet qui est ajouté à la liste. C'est une manière de dire `grenouille.saute(longueur=1.0)`."
   ]
  },
  {
   "cell_type": "markdown",
   "metadata": {},
   "source": [
    " En lançant `espece[2] = \"Lepomis gibbosus\"`, on note qu'il est possible de changer une élément de la liste."
   ]
  },
  {
   "cell_type": "code",
   "execution_count": 19,
   "metadata": {
    "inputHidden": false,
    "outputHidden": false
   },
   "outputs": [
    {
     "name": "stdout",
     "output_type": "stream",
     "text": [
      "['Petromyzon marinus', 'Lepisosteus osseus', 'Amia calva', 'Hiodon tergisus', 'Cyprinus carpio']\n",
      "['Petromyzon marinus', 'Lepisosteus osseus', 'Lepomis gibbosus', 'Hiodon tergisus', 'Cyprinus carpio']\n"
     ]
    }
   ],
   "source": [
    "print(espece)\n",
    "espece[2] = \"Lepomis gibbosus\"\n",
    "print(espece)"
   ]
  },
  {
   "cell_type": "markdown",
   "metadata": {},
   "source": [
    "Si les données contenues dans une liste sont de même type, cette liste peut être considérée comme un vecteur. En créant une liste de vecteurs de dimensions cohérentes, on crée une matrice. Nous verrons plus tard que pour les vecteurs et les matrices, on utilisera un format offert par un module complémentaire. Pour l'instant, on pourrait définir une matrice comme suit."
   ]
  },
  {
   "cell_type": "code",
   "execution_count": 16,
   "metadata": {
    "inputHidden": false,
    "outputHidden": false
   },
   "outputs": [
    {
     "data": {
      "text/plain": [
       "[[1, 2, 3], [4, 5, 6], [7, 8, 9], [10, 11, 12]]"
      ]
     },
     "execution_count": 16,
     "metadata": {},
     "output_type": "execute_result"
    }
   ],
   "source": [
    "mat = [[1, 2, 3],\n",
    "       [4, 5, 6],\n",
    "       [7, 8, 9],\n",
    "       [10, 11, 12]]\n",
    "mat"
   ]
  },
  {
   "cell_type": "markdown",
   "metadata": {},
   "source": [
    "Les **tuples**, définis `tuple` par Python, différent des listes du fait que ses éléments ne peuvent pas être modifiés. Un tuple est délimité par des parenthèses `( )`, et comme chez la liste,  ses éléments sont séparés par des virgules. Les tuples sont moins polyvalents que les listes. Vous les utiliserez probablement rarement, et surtout comme arguments dans certaines fonctions en calcul scientifique."
   ]
  },
  {
   "cell_type": "code",
   "execution_count": 17,
   "metadata": {
    "inputHidden": false,
    "outputHidden": false
   },
   "outputs": [
    {
     "ename": "TypeError",
     "evalue": "'tuple' object does not support item assignment",
     "output_type": "error",
     "traceback": [
      "\u001b[1;31m---------------------------------------------------------------------------\u001b[0m",
      "\u001b[1;31mTypeError\u001b[0m                                 Traceback (most recent call last)",
      "\u001b[1;32m<ipython-input-17-015dcfee479d>\u001b[0m in \u001b[0;36m<module>\u001b[1;34m()\u001b[0m\n\u001b[0;32m      1\u001b[0m \u001b[0mespece\u001b[0m \u001b[1;33m=\u001b[0m \u001b[1;33m(\u001b[0m\u001b[1;34m'Petromyzon marinus'\u001b[0m\u001b[1;33m,\u001b[0m \u001b[1;34m'Lepisosteus osseus'\u001b[0m\u001b[1;33m,\u001b[0m \u001b[1;34m'Amia calva'\u001b[0m\u001b[1;33m,\u001b[0m \u001b[1;34m'Hiodon tergisus'\u001b[0m\u001b[1;33m)\u001b[0m\u001b[1;33m\u001b[0m\u001b[0m\n\u001b[1;32m----> 2\u001b[1;33m \u001b[0mespece\u001b[0m\u001b[1;33m[\u001b[0m\u001b[1;36m2\u001b[0m\u001b[1;33m]\u001b[0m \u001b[1;33m=\u001b[0m \u001b[1;34m\"Lepomis gibbosus\"\u001b[0m\u001b[1;33m\u001b[0m\u001b[0m\n\u001b[0m\u001b[0;32m      3\u001b[0m \u001b[0mespece\u001b[0m\u001b[1;33m\u001b[0m\u001b[0m\n",
      "\u001b[1;31mTypeError\u001b[0m: 'tuple' object does not support item assignment"
     ]
    }
   ],
   "source": [
    "espece = ('Petromyzon marinus', 'Lepisosteus osseus', 'Amia calva', 'Hiodon tergisus')\n",
    "espece[2] = \"Lepomis gibbosus\"\n",
    "espece"
   ]
  },
  {
   "cell_type": "markdown",
   "metadata": {
    "inputHidden": false,
    "outputHidden": false
   },
   "source": [
    "Les **dictionnaires**, ou `dict`, sont des listes dont chaque élément est identifié par une clé. Un dictionnaire est délimité par des accolades sous forme `mon_dict = {'clé1': x, 'clé2': y, 'clé3': z }`. On appelle un élément par sa clé entre des crochets, par exemple `mon_dict['clé1']`.\n",
    "\n",
    "Le `dict` se rapproche d'un tableau: nous verrons plus tard que le format de tableau (offert dans un module complémentaire) est bâti à partir du format `dict`. Contrairement à un tableau où les colonnes contiennent toutes le même nombre de lignes, chaque élément du dictionnaire est indépendant des autres."
   ]
  },
  {
   "cell_type": "code",
   "execution_count": 21,
   "metadata": {
    "inputHidden": false,
    "outputHidden": false
   },
   "outputs": [
    {
     "name": "stdout",
     "output_type": "stream",
     "text": [
      "Mon tableau:  {'poids': [10, 13, 21, 4], 'espece': ['Petromyzon marinus', 'Lepisosteus osseus', 'Amia calva', 'Hiodon tergisus'], 'longueur': [35, 44, 50, 8]}\n",
      "Mes espèces: ['Petromyzon marinus', 'Lepisosteus osseus', 'Amia calva', 'Hiodon tergisus']\n",
      "Noms des clés (ou colonnes): dict_keys(['poids', 'espece', 'longueur'])\n"
     ]
    }
   ],
   "source": [
    "tableau = {'espece': ['Petromyzon marinus', 'Lepisosteus osseus', 'Amia calva', 'Hiodon tergisus'], 'poids': [10, 13, 21, 4], 'longueur': [35, 44, 50, 8]}\n",
    "print('Mon tableau: ', tableau)\n",
    "print('Mes espèces:',  tableau['espece'])\n",
    "print('Noms des clés (ou colonnes):',  tableau.keys())"
   ]
  },
  {
   "cell_type": "markdown",
   "metadata": {},
   "source": [
    "### Les fonctions (ou *méthodes*)\n",
    "\n",
    "Plus haut, j'ai présenté les fonctions `len` et `append`. Une myriade de fonctions sont livrées par défaut avec Python. Mais il en manque aussi cruellement.\n"
   ]
  },
  {
   "cell_type": "code",
   "execution_count": 18,
   "metadata": {
    "inputHidden": false,
    "outputHidden": false
   },
   "outputs": [
    {
     "ename": "NameError",
     "evalue": "name 'sqrt' is not defined",
     "output_type": "error",
     "traceback": [
      "\u001b[1;31m---------------------------------------------------------------------------\u001b[0m",
      "\u001b[1;31mNameError\u001b[0m                                 Traceback (most recent call last)",
      "\u001b[1;32m<ipython-input-18-40e415486bd6>\u001b[0m in \u001b[0;36m<module>\u001b[1;34m()\u001b[0m\n\u001b[1;32m----> 1\u001b[1;33m \u001b[0msqrt\u001b[0m\u001b[1;33m(\u001b[0m\u001b[1;36m2\u001b[0m\u001b[1;33m)\u001b[0m\u001b[1;33m\u001b[0m\u001b[0m\n\u001b[0m",
      "\u001b[1;31mNameError\u001b[0m: name 'sqrt' is not defined"
     ]
    }
   ],
   "source": [
    "sqrt(2)"
   ]
  },
  {
   "cell_type": "markdown",
   "metadata": {},
   "source": [
    "Message d'erreur: la commande `sqrt` n'est pas définie. \n",
    "\n",
    "> Quoi, Python n'est pas foutu de calculer une racine carrée?\n",
    "\n",
    "Par défaut, non.\n",
    "\n",
    "![](https://media.giphy.com/media/BuXP669E4ewLe/giphy.gif)\n",
    "\n",
    "Mais!\n",
    "\n",
    "De nombreuses extensions (les *modules*) permettent de combler ces manques. Nous aborderons ça un peu plus loin dans ce chapitre. Pour l'instant, exerçons-nous à créer notre propre fonction de racine carrée."
   ]
  },
  {
   "cell_type": "code",
   "execution_count": 20,
   "metadata": {
    "collapsed": true,
    "inputHidden": false,
    "outputHidden": false
   },
   "outputs": [],
   "source": [
    "def racine(x, n=2):\n",
    "    r = x**(1/n)\n",
    "    return r"
   ]
  },
  {
   "cell_type": "markdown",
   "metadata": {},
   "source": [
    "En Python, `def` est le mot-clé pour définir une fonction. Suit ensuite, après un espace, le nom que vous désirez donner à la fonction: `racine`. Les arguments de la fonction suivent entre les parenthèses. Dans ce cas, `x` est la valeur de laquelle on veut extraire la racine et `n` est l'ordre de la racine. L'agument `x` n'a pas de valeur par défaut: elle doit être spécifiée pour que la fonction fonctionne. La mention `n=2` signifie que si la valeur de `n` n'est pas spécifiée, elle prendra la valeur de 2 (la racine carrée). Pour marquer la fin de la définition et le début de la suite d'instructions, on utilise les deux points `:`, puis un retour de ligne. Une indentation (ou retrait) de quatre barres d'espacement signifie que l'on se trouve à l'intérieur de la suite d'instructions, où l'on calcule une valeur de `r` comme l'exposant de l'inverse de l'ordre de la racine. La dernière ligne indique ce que la fonction doit retourner."
   ]
  },
  {
   "cell_type": "code",
   "execution_count": 21,
   "metadata": {
    "inputHidden": false,
    "outputHidden": false
   },
   "outputs": [
    {
     "name": "stdout",
     "output_type": "stream",
     "text": [
      "3.0\n",
      "3.0\n",
      "2.0\n",
      "2.0\n"
     ]
    }
   ],
   "source": [
    "print(racine(9))\n",
    "print(racine(x=9))\n",
    "print(racine(8, 3))\n",
    "print(racine(x=8, n=3))"
   ]
  },
  {
   "cell_type": "markdown",
   "metadata": {},
   "source": [
    "S'ils ne sont pas spécifiés, Python comprend que les arguments sont entrés dans l'ordre défini dans la fonction. En entrant `racine(9)`, Python comprend que le `9` est attribué à `x` et donne à `n` sa valeur par défaut, `2`. Ce qui est équivalent à entrer `racine(x=9)`. Les autres entrées sont aussi équivalentes, et extraient la racine cubique. S'il se peut qu'il y ait confusion entre les arguments nommés et ceux qui ne le sont pas, Python vous retournera un message d'erreur. Règle générale, il est préférable pour la lisibilité du code de nommer les arguments plutôt que de les spécifier dans l'ordre.\n",
    "\n",
    "Supposons maintenant que vous avez une liste de données dont vous voulez extraire la racine."
   ]
  },
  {
   "cell_type": "code",
   "execution_count": 22,
   "metadata": {
    "inputHidden": false,
    "outputHidden": false
   },
   "outputs": [
    {
     "ename": "TypeError",
     "evalue": "unsupported operand type(s) for ** or pow(): 'list' and 'float'",
     "output_type": "error",
     "traceback": [
      "\u001b[1;31m---------------------------------------------------------------------------\u001b[0m",
      "\u001b[1;31mTypeError\u001b[0m                                 Traceback (most recent call last)",
      "\u001b[1;32m<ipython-input-22-2392ba347f65>\u001b[0m in \u001b[0;36m<module>\u001b[1;34m()\u001b[0m\n\u001b[0;32m      1\u001b[0m \u001b[0mdata\u001b[0m \u001b[1;33m=\u001b[0m \u001b[1;33m[\u001b[0m\u001b[1;36m3.5\u001b[0m\u001b[1;33m,\u001b[0m \u001b[1;36m8.1\u001b[0m\u001b[1;33m,\u001b[0m \u001b[1;36m10.2\u001b[0m\u001b[1;33m,\u001b[0m \u001b[1;36m0.5\u001b[0m\u001b[1;33m,\u001b[0m \u001b[1;36m5.6\u001b[0m\u001b[1;33m]\u001b[0m\u001b[1;33m\u001b[0m\u001b[0m\n\u001b[1;32m----> 2\u001b[1;33m \u001b[0mracine\u001b[0m\u001b[1;33m(\u001b[0m\u001b[0mx\u001b[0m\u001b[1;33m=\u001b[0m\u001b[0mdata\u001b[0m\u001b[1;33m,\u001b[0m \u001b[0mn\u001b[0m\u001b[1;33m=\u001b[0m\u001b[1;36m2\u001b[0m\u001b[1;33m)\u001b[0m\u001b[1;33m\u001b[0m\u001b[0m\n\u001b[0m",
      "\u001b[1;32m<ipython-input-20-5b6054ea860f>\u001b[0m in \u001b[0;36mracine\u001b[1;34m(x, n)\u001b[0m\n\u001b[0;32m      1\u001b[0m \u001b[1;32mdef\u001b[0m \u001b[0mracine\u001b[0m\u001b[1;33m(\u001b[0m\u001b[0mx\u001b[0m\u001b[1;33m,\u001b[0m \u001b[0mn\u001b[0m\u001b[1;33m=\u001b[0m\u001b[1;36m2\u001b[0m\u001b[1;33m)\u001b[0m\u001b[1;33m:\u001b[0m\u001b[1;33m\u001b[0m\u001b[0m\n\u001b[1;32m----> 2\u001b[1;33m     \u001b[0mr\u001b[0m \u001b[1;33m=\u001b[0m \u001b[0mx\u001b[0m\u001b[1;33m**\u001b[0m\u001b[1;33m(\u001b[0m\u001b[1;36m1\u001b[0m\u001b[1;33m/\u001b[0m\u001b[0mn\u001b[0m\u001b[1;33m)\u001b[0m\u001b[1;33m\u001b[0m\u001b[0m\n\u001b[0m\u001b[0;32m      3\u001b[0m     \u001b[1;32mreturn\u001b[0m \u001b[0mr\u001b[0m\u001b[1;33m\u001b[0m\u001b[0m\n",
      "\u001b[1;31mTypeError\u001b[0m: unsupported operand type(s) for ** or pow(): 'list' and 'float'"
     ]
    }
   ],
   "source": [
    "data = [3.5, 8.1, 10.2, 0.5, 5.6]\n",
    "racine(x=data, n=2)"
   ]
  },
  {
   "cell_type": "markdown",
   "metadata": {},
   "source": [
    "Oups. Python vous dit qu'il y a une erreur, et vous indique avec une flèche `---->` à quelle ligne de notre fonction elle est encourrue. Les exposants `**` (on peut aussi utiliser la fonction `pow`) ne sont pas applicables aux listes. Une solution est d'appliquer la fonction à chaque élément de la liste avec une **ittération**. On verra plus tard des manières plus efficaces de procéder. Je me sers de ce cas d'étude pour introduire les boucles ittératives."
   ]
  },
  {
   "cell_type": "markdown",
   "metadata": {},
   "source": [
    "### Les boucles\n",
    "\n",
    "Les boucles permettent d'effectuer une même suite d'opérations sur plusieurs objets. Pour faire suite à notre exemple:"
   ]
  },
  {
   "cell_type": "code",
   "execution_count": 26,
   "metadata": {
    "inputHidden": false,
    "outputHidden": false
   },
   "outputs": [
    {
     "data": {
      "text/plain": [
       "[1.8708286933869707,\n",
       " 2.8460498941515415,\n",
       " 3.1937438845342623,\n",
       " 0.7071067811865476,\n",
       " 2.3664319132398464]"
      ]
     },
     "execution_count": 26,
     "metadata": {},
     "output_type": "execute_result"
    }
   ],
   "source": [
    "racine_data = []\n",
    "for i in [0, 1, 2, 3, 4]:\n",
    "    r = racine(x=data[i], n=2)\n",
    "    racine_data.append(r)\n",
    "\n",
    "racine_data"
   ]
  },
  {
   "cell_type": "markdown",
   "metadata": {},
   "source": [
    "Nous avons d'abord créé une liste vide, `racine_data`. Ensuite, pour (**`for`**) chaque indice de la liste (`i in [0, 1, 2, 3, 4]`), nous demandons à Python d'effectuer la suite d'opération qui suit le `;` et qui est indentée de quatre espaces. Dans la suite d'opération, calculer la racine carrée de `data` à l'indice `i`, puis l'ajouter à la liste `racine_data`. Au lieu d'entrer une liste `[0, 1, 2, 3, 4]`, on aurait pu utiliser la fonction `range` et lui assigner automatiquement la longueur de la liste."
   ]
  },
  {
   "cell_type": "code",
   "execution_count": 27,
   "metadata": {
    "inputHidden": false,
    "outputHidden": false
   },
   "outputs": [
    {
     "name": "stdout",
     "output_type": "stream",
     "text": [
      "Racine carrée de  3.5  =  1.8708286933869707\n",
      "Racine carrée de  8.1  =  2.8460498941515415\n",
      "Racine carrée de  10.2  =  3.1937438845342623\n",
      "Racine carrée de  0.5  =  0.7071067811865476\n",
      "Racine carrée de  5.6  =  2.3664319132398464\n"
     ]
    }
   ],
   "source": [
    "racine_data = []\n",
    "for i in range(len(data)):\n",
    "    r = racine(x=data[i], n=2)\n",
    "    print('Racine carrée de ', data[i], ' = ', r)\n",
    "    racine_data.append(r)"
   ]
  },
  {
   "cell_type": "markdown",
   "metadata": {},
   "source": [
    "La fonction `range` retourne une séquence calculée au besoin. Elle est calculée si elle est évoquée dans une boucle ou en lançant `list`."
   ]
  },
  {
   "cell_type": "code",
   "execution_count": 28,
   "metadata": {
    "inputHidden": false,
    "outputHidden": false
   },
   "outputs": [
    {
     "name": "stdout",
     "output_type": "stream",
     "text": [
      "range(0, 5)\n",
      "[0, 1, 2, 3, 4]\n",
      "range(2, 5)\n",
      "[2, 3, 4]\n"
     ]
    }
   ],
   "source": [
    "print(range(len(data)))\n",
    "print(list(range(len(data))))\n",
    "print(range(2, len(data)))\n",
    "print(list(range(2, len(data))))"
   ]
  },
  {
   "cell_type": "markdown",
   "metadata": {},
   "source": [
    "Première observation, si un seul argument est inclus, `range` retourne une séquence partant de zéro. Seconde observation, la séquence se termine en excluant l'argument. Ainsi, `range(2,5)` retourne la séquence [2, 3, 4]. En spécifiant la longueur de data comme argument, la séquence `range(5)` retourne la liste `[0, 1, 2, 3, 4]`, soit les indices dont nous avons besoin pour itérer dans la liste.\n",
    "\n",
    "Les boucles `for` vous permettront par exemple de générer en peu de temps 10, 100, 1000 graphiques (autant que vous voulez), chacun issu de simulations obtenues à partir de conidtions initiales différentes, et de les enregistrer dans un répertoire sur votre ordinateur. Un travail qui pourrait prendre des semaines sur Excel peut être effectué en Python en quelques secondes.\n",
    "\n",
    "Un second outil est disponible pour les itérations: les boucles **`while`**. Elles effectue une opération tant qu'un critère n'est pas atteint. Elles sont utiles pour les opérations où l'on cherche une convergence. Je les couvre rapidement puisque'elles sont rarement utilisées dans les flux de travail courrants. En voici un petit exemple."
   ]
  },
  {
   "cell_type": "code",
   "execution_count": 29,
   "metadata": {
    "inputHidden": false,
    "outputHidden": false
   },
   "outputs": [
    {
     "name": "stdout",
     "output_type": "stream",
     "text": [
      "10.0\n",
      "3.1622776601683795\n",
      "1.7782794100389228\n",
      "1.333521432163324\n",
      "1.1547819846894583\n",
      "1.0746078283213176\n"
     ]
    }
   ],
   "source": [
    "x = 100\n",
    "while (x > 1.1):\n",
    "    x=racine(x)\n",
    "    print(x)"
   ]
  },
  {
   "cell_type": "markdown",
   "metadata": {},
   "source": [
    "Nous avons inité x à une valeur de 100. Puis, tant que (`while`) le test `x > 1.1` est vrai, attribuer à `x` la nouvelle valeur calculée en extrayant la racine de la valeur précédente de `x`. Enfin, indiquer la valeur avec `print`.\n",
    "\n",
    "Explorons maintenant comment Python réagit si on lui demande de calculer $\\sqrt{-1}$."
   ]
  },
  {
   "cell_type": "code",
   "execution_count": 30,
   "metadata": {
    "inputHidden": false,
    "outputHidden": false
   },
   "outputs": [
    {
     "data": {
      "text/plain": [
       "(6.123233995736766e-17+1j)"
      ]
     },
     "execution_count": 30,
     "metadata": {},
     "output_type": "execute_result"
    }
   ],
   "source": [
    "racine(x=-1, n=2)"
   ]
  },
  {
   "cell_type": "markdown",
   "metadata": {},
   "source": [
    "D'abord, Python ne retourne pas de message d'erreur, mais un nouveau type de donnée: le nombre imaginaire. Puis, `6.123233995736766e-17` n'est pas zéro, mais très proche. La résolution des calculs étant numérique, on obeserve parfois de légères déviations par rapport aux solutions mathématiques.\n",
    "\n",
    "Si pour un cas particulier, on veut éviter que notre fonction retourne un nombre imaginaire, comment s'y prendre? Avec une **condition**."
   ]
  },
  {
   "cell_type": "markdown",
   "metadata": {},
   "source": [
    "### Conditions: `if`, `elif`, `else`\n",
    "\n",
    "> `Si la condition 1 est remplie, effectuer une suite d'instruction 1. Si la condition 1 n'est pas remplie, et si la condition 2 est remplie, effectuer la suite d'instruction 2. Sinon, effectuer la suite d'instruction 3.`\n",
    "\n",
    "Voilà comment on exprime une suite de conditions. Pour notre racine d'un nombre négatif, on pourrait procéder comme suit."
   ]
  },
  {
   "cell_type": "code",
   "execution_count": 31,
   "metadata": {
    "collapsed": true,
    "inputHidden": false,
    "outputHidden": false
   },
   "outputs": [],
   "source": [
    "def racine_positive_nn(x, n=2):\n",
    "    if x<0:\n",
    "        raise ValueError(\"x est négatif\")\n",
    "    elif x==0:\n",
    "        raise ValueError(\"x est nul\")\n",
    "    else:\n",
    "        r = x**(1/n)\n",
    "        return r"
   ]
  },
  {
   "cell_type": "markdown",
   "metadata": {},
   "source": [
    "La racine positive et non-nulle (`racine_positive_nn`) comprend les mot-clés `if` (si), `elif` (une contration de *else if*) et `else` (sinon). `ValueError` est une fonction pour retourner un message d'erreur lorsqu'elle est précédée de `raise`. Comme c'est le cas pour `def` et `for`, les instructions des conditions sont indentées. Notez la double indentation (8 espaces) pour les instructions des conditions. Alors que la plupart des langages de programmation demandent d'emboîter les instructions dans des parenthèses, accolades et crochets, Python préfère nous forcer à bien indenter le code (ce que l'on devrait faire de toute manière pour améliorer la lisibilité) et s'y fier pour effectuer ses opérations."
   ]
  },
  {
   "cell_type": "code",
   "execution_count": 32,
   "metadata": {
    "inputHidden": false,
    "outputHidden": false
   },
   "outputs": [
    {
     "ename": "ValueError",
     "evalue": "x est négatif",
     "output_type": "error",
     "traceback": [
      "\u001b[0;31m---------------------------------------------------------------------------\u001b[0m",
      "\u001b[0;31mValueError\u001b[0m                                Traceback (most recent call last)",
      "\u001b[0;32m<ipython-input-32-433df026cdcb>\u001b[0m in \u001b[0;36m<module>\u001b[0;34m()\u001b[0m\n\u001b[0;32m----> 1\u001b[0;31m \u001b[0mracine_positive_nn\u001b[0m\u001b[0;34m(\u001b[0m\u001b[0mx\u001b[0m\u001b[0;34m=\u001b[0m\u001b[0;34m-\u001b[0m\u001b[0;36m1\u001b[0m\u001b[0;34m,\u001b[0m \u001b[0mn\u001b[0m\u001b[0;34m=\u001b[0m\u001b[0;36m2\u001b[0m\u001b[0;34m)\u001b[0m\u001b[0;34m\u001b[0m\u001b[0m\n\u001b[0m",
      "\u001b[0;32m<ipython-input-31-50ae7c2c1de7>\u001b[0m in \u001b[0;36mracine_positive_nn\u001b[0;34m(x, n)\u001b[0m\n\u001b[1;32m      1\u001b[0m \u001b[0;32mdef\u001b[0m \u001b[0mracine_positive_nn\u001b[0m\u001b[0;34m(\u001b[0m\u001b[0mx\u001b[0m\u001b[0;34m,\u001b[0m \u001b[0mn\u001b[0m\u001b[0;34m=\u001b[0m\u001b[0;36m2\u001b[0m\u001b[0;34m)\u001b[0m\u001b[0;34m:\u001b[0m\u001b[0;34m\u001b[0m\u001b[0m\n\u001b[1;32m      2\u001b[0m     \u001b[0;32mif\u001b[0m \u001b[0mx\u001b[0m\u001b[0;34m<\u001b[0m\u001b[0;36m0\u001b[0m\u001b[0;34m:\u001b[0m\u001b[0;34m\u001b[0m\u001b[0m\n\u001b[0;32m----> 3\u001b[0;31m         \u001b[0;32mraise\u001b[0m \u001b[0mValueError\u001b[0m\u001b[0;34m(\u001b[0m\u001b[0;34m\"x est négatif\"\u001b[0m\u001b[0;34m)\u001b[0m\u001b[0;34m\u001b[0m\u001b[0m\n\u001b[0m\u001b[1;32m      4\u001b[0m     \u001b[0;32melif\u001b[0m \u001b[0mx\u001b[0m\u001b[0;34m==\u001b[0m\u001b[0;36m0\u001b[0m\u001b[0;34m:\u001b[0m\u001b[0;34m\u001b[0m\u001b[0m\n\u001b[1;32m      5\u001b[0m         \u001b[0;32mraise\u001b[0m \u001b[0mValueError\u001b[0m\u001b[0;34m(\u001b[0m\u001b[0;34m\"x est nul\"\u001b[0m\u001b[0;34m)\u001b[0m\u001b[0;34m\u001b[0m\u001b[0m\n",
      "\u001b[0;31mValueError\u001b[0m: x est négatif"
     ]
    }
   ],
   "source": [
    "racine_positive_nn(x=-1, n=2)"
   ]
  },
  {
   "cell_type": "code",
   "execution_count": 33,
   "metadata": {
    "inputHidden": false,
    "outputHidden": false
   },
   "outputs": [
    {
     "ename": "ValueError",
     "evalue": "x est nul",
     "output_type": "error",
     "traceback": [
      "\u001b[0;31m---------------------------------------------------------------------------\u001b[0m",
      "\u001b[0;31mValueError\u001b[0m                                Traceback (most recent call last)",
      "\u001b[0;32m<ipython-input-33-f8ae6dbb9aea>\u001b[0m in \u001b[0;36m<module>\u001b[0;34m()\u001b[0m\n\u001b[0;32m----> 1\u001b[0;31m \u001b[0mracine_positive_nn\u001b[0m\u001b[0;34m(\u001b[0m\u001b[0mx\u001b[0m\u001b[0;34m=\u001b[0m\u001b[0;36m0\u001b[0m\u001b[0;34m,\u001b[0m \u001b[0mn\u001b[0m\u001b[0;34m=\u001b[0m\u001b[0;36m2\u001b[0m\u001b[0;34m)\u001b[0m\u001b[0;34m\u001b[0m\u001b[0m\n\u001b[0m",
      "\u001b[0;32m<ipython-input-31-50ae7c2c1de7>\u001b[0m in \u001b[0;36mracine_positive_nn\u001b[0;34m(x, n)\u001b[0m\n\u001b[1;32m      3\u001b[0m         \u001b[0;32mraise\u001b[0m \u001b[0mValueError\u001b[0m\u001b[0;34m(\u001b[0m\u001b[0;34m\"x est négatif\"\u001b[0m\u001b[0;34m)\u001b[0m\u001b[0;34m\u001b[0m\u001b[0m\n\u001b[1;32m      4\u001b[0m     \u001b[0;32melif\u001b[0m \u001b[0mx\u001b[0m\u001b[0;34m==\u001b[0m\u001b[0;36m0\u001b[0m\u001b[0;34m:\u001b[0m\u001b[0;34m\u001b[0m\u001b[0m\n\u001b[0;32m----> 5\u001b[0;31m         \u001b[0;32mraise\u001b[0m \u001b[0mValueError\u001b[0m\u001b[0;34m(\u001b[0m\u001b[0;34m\"x est nul\"\u001b[0m\u001b[0;34m)\u001b[0m\u001b[0;34m\u001b[0m\u001b[0m\n\u001b[0m\u001b[1;32m      6\u001b[0m     \u001b[0;32melse\u001b[0m\u001b[0;34m:\u001b[0m\u001b[0;34m\u001b[0m\u001b[0m\n\u001b[1;32m      7\u001b[0m         \u001b[0mr\u001b[0m \u001b[0;34m=\u001b[0m \u001b[0mx\u001b[0m\u001b[0;34m**\u001b[0m\u001b[0;34m(\u001b[0m\u001b[0;36m1\u001b[0m\u001b[0;34m/\u001b[0m\u001b[0mn\u001b[0m\u001b[0;34m)\u001b[0m\u001b[0;34m\u001b[0m\u001b[0m\n",
      "\u001b[0;31mValueError\u001b[0m: x est nul"
     ]
    }
   ],
   "source": [
    "racine_positive_nn(x=0, n=2)"
   ]
  },
  {
   "cell_type": "code",
   "execution_count": 34,
   "metadata": {
    "inputHidden": false,
    "outputHidden": false
   },
   "outputs": [
    {
     "data": {
      "text/plain": [
       "2.0"
      ]
     },
     "execution_count": 34,
     "metadata": {},
     "output_type": "execute_result"
    }
   ],
   "source": [
    "racine_positive_nn(x=4, n=2)"
   ]
  },
  {
   "cell_type": "markdown",
   "metadata": {},
   "source": [
    "### Charger un module\n",
    "\n",
    "Le module `numpy`, installé par défaut avec Anaconda, est une boîte d'outil de calcul numérique populée par de nombreuses foncions mathématiques. Dont la racine carrée."
   ]
  },
  {
   "cell_type": "code",
   "execution_count": 1,
   "metadata": {
    "inputHidden": false,
    "outputHidden": false
   },
   "outputs": [
    {
     "data": {
      "text/plain": [
       "3.0"
      ]
     },
     "execution_count": 1,
     "metadata": {},
     "output_type": "execute_result"
    }
   ],
   "source": [
    "import numpy as np\n",
    "np.sqrt(9)"
   ]
  },
  {
   "cell_type": "code",
   "execution_count": 36,
   "metadata": {
    "inputHidden": false,
    "outputHidden": false
   },
   "outputs": [
    {
     "data": {
      "text/plain": [
       "3.0"
      ]
     },
     "execution_count": 36,
     "metadata": {},
     "output_type": "execute_result"
    }
   ],
   "source": [
    "from numpy import sqrt\n",
    "sqrt(9)"
   ]
  },
  {
   "cell_type": "markdown",
   "metadata": {},
   "source": [
    "La plupart des fonctions que vous aurez à construire seront vouées à des instructions spécialisées à votre cas d'étude. Pour la plupart des opérations d'ordre générale (comme les racines carrées, les tests statistiques, la gestion de matrices et de tableau, les graphiques, les modèles d'apprentissage, etc.), des équipes ont déjà développé des fonctions nécessaires à leur utilisation, et les ont laissées disponibles au grand public. L'introduction à Python se termine là-dessus.\n",
    "\n",
    "Comme une langue, on n'apprend à s'exprimer en un langage informatique qu'en se mettant à l'épreuve, ce que vous ferez tout au long de ce cours.\n",
    "\n",
    "Prenons une pause de Python et passons à des technicalités."
   ]
  },
  {
   "cell_type": "markdown",
   "metadata": {},
   "source": [
    "## L'environnement de travail\n",
    "\n",
    "### Le gestionnaire `conda`\n",
    "\n",
    "Une fois que Anaconda est installé, l'[installation de modules](http://conda.pydata.org/docs/using/pkgs.html) et des [environnements virtuel](http://conda.pydata.org/docs/using/envs.html) devient possible avec le gestionnaire `conda`. Cette section ne présente qu'un aperçu de ses capacités, basé sur ce dont vous aurez besoin pour ce cours. Pour plus d'information, consultez le [guide](http://conda.pydata.org/docs/intro.html).\n",
    "\n",
    "### Installer des modules\n",
    "\n",
    "Sans module, Python ne sera pas un environnement de calcul scientifique appréciable. Heureusement, il existe des modules pour faciliter la vie des scientifiques qui désirent calculer des opérations simples comme des moyennes et des angles, ou des opérations plus compliquées comme des intégrales et des algorithmes d'intelligence artificielle. Plusieurs modules sont installés par défaut avec Anaconda. Pour lister l'ensemble des modules installés dans un environnement, ouvrez un terminal (si vous vous trouvez dans une session Python, vous devez quitter par la commande `quit()`) et lancez:\n",
    "\n",
    "```\n",
    "conda list\n",
    "```\n",
    "\n",
    "Les modules sont téléchargés et installés depuis des dépôts en ligne. L'entreprise [Continuum Analytics](https://www.continuum.io/), qui développe et supporte Anaconda, offre ses propres dépôts. Par défaut, le module `statsmodels` (que nous utiliserons pour certaines opérations) sera téléchargé depuis les dépôts par défaut si vous lancez:\n",
    "\n",
    "```\n",
    "conda install statsmodels\n",
    "```\n",
    "\n",
    "Il est préférable d'utiliser le dépôt communautaire [conda-forge](https://conda-forge.github.io/) plutôt que les dépôts officiels de Continuum Analytics. Sur conda-forge, davantage de modules sont disponibles, ceux-ci sont davantage à jour et leur  qualité est contrôlée.\n",
    "\n",
    "```\n",
    "conda config --add channels conda-forge\n",
    "```\n",
    "\n",
    "Par la suite, tous les modules seront téléchargés depuis conda-forge. Pour effectuer une mise à jour de tous les modules, lancez:\n",
    "\n",
    "```\n",
    "conda update --all\n",
    "```\n",
    "\n",
    "### Installer des environnements virtuels\n",
    "Vous voilà en train de travailler sur des données complexes qui demandent plusieurs opérations. Vous avez l'habitude, à toutes les semaines, de lancer `conda update --all` pour mettre à jour les modules, ce qui corrige les bogues et ajoute des fonctionnalités. L'équipe de développement d'un module a décidé de modifier, pour le mieux, une fonction. Vous n'êtes pas au courant de ce changement et vous passez deux jours à cherche ce qui cause ce message d'erreur dans vos calculs. Vous envoyez votre fichier de calcul à votre collègue qui n'a pas mis à jour ce module, puis vos corrections lui causent des problèmes. Croyez-moi, ça arrive souvent.\n",
    "\n",
    "Les environnements virtuels sont là pour éviter cela. Il s'agit d'un répertoire dans lequel Python ainsi que ses modules sont isolés. Pour un projet spécifique, vous pouvez créer un environnement virtuel sous Python 2.7.9 et installer des versions de modules spécifiques sans les mettre à jour. Ça permet d'une part de travailler avec des outils qui ne changent pas en cours de projet, et d'autre part à travailler entre collègues avec les mêmes versions.\n",
    "\n",
    "Pour créer un environnement nommé `fertilisation_laitue` incluant Python en version 2.7.9 et le module `statsmodels` version 0.6.0, lancez:\n",
    "\n",
    "```\n",
    "conda create -n fertilisation_laitue python=2.7.9\n",
    "```\n",
    "\n",
    "Le répertoire de projet sera automatiquement installé dans le répertoire `envs` de votre installation de Anaconda.\n",
    "\n",
    "Pour activer cet environnement, sous Linux et en OS X:\n",
    "\n",
    "```\n",
    "source activate fertilisation_laitue\n",
    "```\n",
    "\n",
    "Sous Windows:\n",
    "\n",
    "```\n",
    "activate fertilisation_laitue\n",
    "```\n",
    "\n",
    "Depuis l'environnement virtuel, vous pouvez installer les modules dont vous avez besoin, en spécifiant la version. Par exemple,\n",
    "\n",
    "```\n",
    "conda install statsmodels=0.6.0\n",
    "```\n",
    "\n",
    "Depuis votre environnement virtuel (y compris l'environnement `root`), vous pouvez aussi lancer Jupyter, une interface qui vous permettra d'intéragir de manière conviviale avec Python.\n",
    "\n",
    "À titre d'exemple, préparons-nous au cours en créant un environnement virtuel qui incluera la version de Python 3.5. Précédemment, nous avions fait cela en deux étapes: (1) créer l'environnement, puis (2) installer les bibliothèques. Nous pouvons tout aussi bien le faire d'un coup. Je nomme arbitrairement l'environnement `ecolopy`.\n",
    "\n",
    "```\n",
    "conda create -n ecolopy numpy scipy pandas matplotlib jupyterlab\n",
    "```\n",
    "\n",
    "Activons l'environnement (Linux et OS X: `source activate ecolopy`, Windows: `activate ecolopy`), puis installons les bibliothèques nécessaires. Puisque j'utilise Linux,\n",
    "\n",
    "```\n",
    "source activate ecolopy\n",
    "```\n",
    "\n",
    "Pour partager un environnement de travail avec des collègues ou avec la postérité, vous pouvez générer une liste de prérequis via `conda list -e > req.txt`, à partir de laquelle quiconque utlise Anaconda pourra créer un environnement virtuel identique au vôtre via `conda create -n ecolopy environment --file req.txt`.\n",
    "\n",
    "Pour tester l'environnement, lancez python!\n",
    "\n",
    "```\n",
    "python\n",
    "```\n",
    "\n",
    "Pour ce cours, vous êtes libres de générer un environnement de travail ou de travailler dans l'environnement par défaut (nommé `root`)."
   ]
  },
  {
   "cell_type": "markdown",
   "metadata": {},
   "source": [
    "La première ligne importe le module NumPy (`numpy`) et en crée une instance dont on choisi optionnellement le nom: `np` (utilisé conventionnellement pour `numpy`). Ce faisant, on appelle `numpy` et on le lie avec `np`. Ainsi, on peut aller chercher l'instance `sqrt` de `np` avec `np.sqrt()`. Si l'on ne cherche qu'à importer la fonction sqrt et que l'on ne comte pas utiliser le tout NumPy:"
   ]
  },
  {
   "cell_type": "markdown",
   "metadata": {},
   "source": [
    "De nombreux modules seront utilisés lors de ce cours. La section suivante vise à les présenter brièvement."
   ]
  },
  {
   "cell_type": "markdown",
   "metadata": {},
   "source": [
    "### Modules de base\n",
    "\n",
    "#### NumPy\n",
    "NumPy, une contraction de *Numerical Python*, donne accès à de nombreuses fonctions mathématiques et intervient inmanquablement pour effectuer des opérations sur les matrices. La grande majorité des opérations effectuées lors de ce cours fera explicitement ou implicitement (via un autre module s'appuyant sur NumPy) référence à NumPy. NumPy permet notamment:\n",
    "\n",
    "- de donner accès à des [opérations mathématiques de base](https://docs.scipy.org/doc/numpy/reference/routines.math.html) comme la racine carrée, la trigonométrie, les logarithmes, etc.;\n",
    "- d'effectuer des opérations rapides sur des matrices multidimentionnelles (ndarray, ou n-dimensionnal array), dont des calculs d'[algèbre linéaire](https://docs.scipy.org/doc/numpy/reference/routines.linalg.html);\n",
    "- d'effectuer des calculs élément par élément, ligne par ligne, colonne par colonne, etc., grâce à la \"vectorisation\" - par exemple en additionnant un scalaire à un vecteur, le scalaire sera additionné à tous les éléments du vecteur;\n",
    "- d'[importer et exporter](https://docs.scipy.org/doc/numpy/reference/routines.io.html) des fichiers de données;\n",
    "- de [générer des nombres aléatoires](https://docs.scipy.org/doc/numpy/reference/routines.random.html) selon des lois de probabilité.\n",
    "\n",
    "\n",
    "#### SciPy\n",
    "Basée sur NumPy, [SciPy](http://www.scipy.org/scipylib/index.html) est une collection de fonctions mathématiques offrant une panoplie d'outil pour le calcul scientifique.  Il simplifie certaines fonctions de Numpy, et  offre des gadgets qui se rendront essentiels pour des opérations courrantes, notamment:\n",
    "\n",
    "- calcul intégral et résolution de systèmes d'équations différentielles ordinaires\n",
    "- interpolation entre coordonnées\n",
    "- traitement et analyse de signal\n",
    "\n",
    "Note. Un bibliothèque portant le préfixe *scikit* fait partie de la [trousse d'extensions de SciPy](http://scikits.appspot.com/scikits). \n",
    "\n",
    "#### pandas\n",
    "Les données  sont souvent organisées sous forme de tableau, les colonnes représentant les variables mesurées et les lignes représentant les observations. La bibliothèque [pandas](http://pandas.pydata.org/) offre un kit d'outil pour travailler avec des tableaux de données (`DataFrame`) de manière efficace.  Avec une rapidité d'exécution héritée de NumPy, pandas inclut l'approche des bases de données relationnelles (SQL) pour filtrer, découper, synthétiser, formater et fusionner des tableaux.\n",
    "\n",
    "#### matplotlib\n",
    "Les graphiques sont des synthèses visuelles de données qui autrement seraient pénibles à interpréter. Malgré les récents développements en visualisation sur Python, [`matplotlib`](http://matplotlib.org/) reste la bibliothèque de base pour la présentation de graphiques: nuages de points, lignes, boxplots, histogrammes, contours, etc. Il y en a d'autres comme `altair`, `seaborn` et `bokeh`, qui vous seront présentées au moment opportun."
   ]
  },
  {
   "cell_type": "markdown",
   "metadata": {},
   "source": [
    "### Modules spécialisés: <<<À AJUSTER À LA FIN>>>\n",
    "\n",
    "#### `SymPy`\n",
    "Le calcul symbolique a une place théorique importante en calcul scientifique. [`SymPy`](http://www.sympy.org/en/index.html) sera utilisée pour valider des fonctions issues d'équations différentielles.\n",
    "\n",
    "#### `statsmodels`\n",
    "Plus que de la statistique, la bibliothèque [`statsmodels`](http://statsmodels.sourceforge.net/) est conçue comme accompagnatrice dans l'analyse de données. Elle aidera à effectuer des statistiques comme des analyses de variance, des régressions et des analyses de survie, mais aussi des opérations de prétraitement comme l'imputation de données manquantes.\n",
    "\n",
    "#### `scikit-learn`\n",
    "L'apprentissage automatique (*machine learning* en anglais), permet de détecter des structures dans les données dans l'objectif de prédire une nouvelle occurance, que ce soit un ou plusieurs variables numériques (régression) ou catégorielles (classification). De nombreux algorhitmes sont appelés à être utilisés en sciences de la vie. [`scikit-learn`](http://scikit-learn.org/stable/#) est une trousse d'outil permettant d'appréhender ces outils complexes de manière efficace, conviviale et cohérente, en plus d'offir la possibilité d'empaqueter des machines d'apprentissage dans des logiciels. La documentation de scikit-learn est d'une rare qualité. `scikit-learn` peut aussi être utilisé pour effectuer des classifications non supervisées (classifier des données qui n'ont pas de catégorie prédéterminées), notamment l'analyse de partitionnement (*clustering* en anglais).\n",
    "\n",
    "#### `scikit-bio`\n",
    "[`scikit-bio`](http://scikit-bio.org/) sera utilisé principalement pour l'analyse compositionnelle et pour l'ordination. Ses possibilités ne s'arrêtent toutefois pas là. Techniquement, la bibliothèque `scikit-bio` a moins de lien avec `scikit-learn` qu'avec [`QIIME`](https://qiime.org/), un logiciel libre dédié à la bioinformatique, une discipline connexe au génie écologique, mais axée sur l'analyse génétique.\n",
    "\n",
    "#### `bokeh`\n",
    "Un graphique est une représentation visuelle de données. Bien que matplotlib un outil essentiel au calcul scientifique avec Python, de nombreuses autres bibliothèques ont été développées pour combler ses lacunes. L'une d'entre elle émerge du transfert de la publication traditionnelle (papier, puis pdf) vers la publication de documents interactifs. [`bokeh`](http://bokeh.pydata.org/en/latest/) est une bibliothèque qui, parmi d'autres (notamment [`plotly`](https://plot.ly/) et [`mpld3`](https://mpld3.github.io/)), offre la possibilité de créer des graphiques intéractifs. Bonus: bokeh est aussi une plateforme de développement de logiciels scientifiques.\n",
    "\n",
    "#### `ggplot`\n",
    "**gg**, pour Grammar of Graphics. C'est avant tout un langage pour exprimer le passage de la donnée à sa représentation graphique. Le module `ggplot2` est l'un des plus prisés du langage `R`. Un groupe de travail a heureusement planché sur une [version Python](http://ggplot.yhathq.com/), moins complète mais hautement utile pour tracer des graphiques de manière conviviale autant pour l'exploration de données que pour la publication.\n",
    "\n",
    "#### `SfePy`\n",
    "[*Simple Finite Elements with Python*](http://sfepy.org/) est un gros module conçu pour appréhender de la manière la plus simple possible la modélisation d'équations différentielles partielles par éléments finis. Cette méthode, largement utilisée en ingénierie, sera utile pour modéliser une panoplie de mécanismes déterministes: les transferts d'énergie, l'écoulement de l'eau, le transport des solutés et la dispersion des espèces.\n",
    "\n",
    "#### `lifelines`\n",
    "Combien de temps reste-t-il avant un événment? C'est la question que pose l'analyste de survie. [`lifelines`](https://lifelines.readthedocs.io/en/latest/) est un module Python conçu exactement pour cela."
   ]
  },
  {
   "cell_type": "markdown",
   "metadata": {},
   "source": [
    "### Interfaces\n",
    "On les appelle des interfaces graphiques ou des environnement intégrés de développement et son conçus pour faciliter l'utilisation d'un langage de programmation, souvent pour des applications particulières. Utiliser Python uniquement dans un terminal n'est pas très pratique pour garder la trace des calculs. Comme la plupart des interfaces conçus pour le calcul scientifique, Jupyter comporte trois composantes: un éditeur de commande, un moyen d'exécuter les commandes et un afficheur de graphiques.\n",
    "\n",
    "#### Jupyter\n",
    "##### Jupyter lab\n",
    "Anciennement nommé IPython notebook, puis Jupyter notebook, [Jupyter lab](https://github.com/jupyterlab/jupyterlab) s'inspire d'un format usuelle en science: le carnet de laboratoire.\n",
    "\n",
    "<!--![](images/jupyter-screenshot.png)-->\n",
    "<img src=\"https://raw.githubusercontent.com/jupyterlab/jupyterlab/master/jupyter-plugins-demo.gif\" width=\"600\">\n",
    "\n",
    "Jupyter lab fonctionne dans une fenêtre de navigateur internet. Le code est interprété par IPython, un interprétateur pour le calcul scientifique sur Python. Chaque cellule peut contenir un texte explicatif (édité en [markdown](https://www.youtube.com/watch?v=6A5EpqqDOdk), un outil de traitement de texte où le formattage est effectué dans texte à l'aide de caractères spéciaux), incluant des équations (écrites en format LaTeX via [MathJax](https://www.mathjax.org/) - il existe des [éditeurs d'équations en ligne](http://www.sciweavers.org/free-online-latex-equation-editor)), ou des morceaux de code. Par ailleurs, ces notes de cours sont rédigées dans des carnets Jupyter.\n",
    "\n",
    "##### nteract\n",
    "Afin de libérer Jupyter du navigateur web, une équipe a développé le logiciel [nteract](https://nteract.io), une version épurée de Jupyter en format d'application bureau. **C'est l'interface que nous allons utiliser lors de ce cours**. Téléchargez l'installateur et installez!\n",
    "\n",
    "#### Autres\n",
    "L'interface de [Rodeo](https://www.yhat.com/products/rodeo) comprend des fenêtres pour l'édition de code, pour interprétateur IPython, pour la session de travail et pour afficher les graphiques. En fait, il imite l'interface de RStudio pour R. C'est une solution visuellement élégante et moderne, mais  pas aussi complète que Spyder.\n",
    "\n",
    "Spyder est un acronyme pour \"Scientific PYthon Development EnviRonment\". Si vous avez installé Anaconda, [Spyder](https://github.com/spyder-ide/spyder) est déjà installé sur votre ordiateur. Il est comparable à Rodeo, mais est plus ancien, plus complet, mais aussi plus complexe. \n",
    "\n",
    "Il existe aussi plusieurs autres environnements de développement en mode libre ([Atom/Hydrogen](https://github.com/nteract/hydrogen), [Eclipse/PyDev](http://www.pydev.org/), [Komodo IDE](http://www.activestate.com/komodo-ide), [Lighttable](http://lighttable.com/), [Ninja IDE](http://ninja-ide.org/home/)). Mais certaines préféreront seulement utiliser un bon éditeur texte ([Atom](https://atom.io/), [Brackets](http://brackets.io/), [LighttTable](http://lighttable.com/), [Notepad++](https://notepad-plus-plus.org/), etc.) accompagné d'un terminal sous [IPython](http://ipython.org/). "
   ]
  },
  {
   "cell_type": "markdown",
   "metadata": {},
   "source": [
    "## Astuces pour utiliser Jupyter\n",
    "\n",
    "Ce manuel est créé avec Jupyter. En double-cliquant dans ses cellules de texte, vous aurez accès au code *markdown*, un langage HTML simplifié permettant d'insérer des titres, des tableaux, des emphases en italique et en gras, des équations, des liens, des citations, des encadrés, des listes, etc."
   ]
  },
  {
   "cell_type": "markdown",
   "metadata": {},
   "source": [
    "### Cellule markdown\n",
    "\n",
    "Formatter un texte en markdown est relativement facile. Vous utiliserez sans doute ces outils:\n",
    "\n",
    "```\n",
    "# Titre 1\n",
    "## Titre 2\n",
    "###### Titre 6\n",
    "\n",
    "Formater du `code alligné`. Ou bien un\n",
    "\n",
    "\\```\n",
    "paragraphe dédié au code\n",
    "\\```\n",
    "\n",
    "Liste à puce\n",
    "- item 1\n",
    "- item 2\n",
    "    - item 2.1\n",
    "        - item 2.1.1\n",
    "\n",
    "Liste numérotée\n",
    "0. item 1\n",
    "0. item 2\n",
    "    0. item 2.1\n",
    "        0. item 2.1.1\n",
    "\n",
    "Texte emphasé en *italique* ou en **gras**.\n",
    "\n",
    "[Hyperlien](www.python.org)\n",
    "\n",
    "Insérer une image\n",
    "![]()\n",
    "\n",
    "Insérer une équation en ligne: $\\alpha + \\beta$. Ou en un paragraphe:\n",
    "\n",
    "$$ c = \\sqrt{\\left( a^2 + b^2 \\right)} $$\n",
    "\n",
    "| Symbole | Format |\n",
    "| --- | ---|\n",
    "| Titre 1 | \\# Titre 1|\n",
    "| Titre 2 | \\## Titre 2|\n",
    "| Titre 6 | \\###### Titre 6|\n",
    "| code ligne | \\`code\\`|\n",
    "| code paragraphe | \\`\\`\\`code\\`\\`\\`|\n",
    "| Items de liste à puce | \\- item avec indentation pour les sous-items |\n",
    "| Items de liste numérotée | 0. item avec indentation pour les sous-items |\n",
    "| Italique | Texte emphasé en \\*italique\\* |\n",
    "| Gras | Texte emphasé en \\*\\*gras\\*\\* |\n",
    "| Hyperlien | Créer un \\[lien\\](https://python.org) |\n",
    "| Image | Insérer une image \\!\\[\\](....png) |\n",
    "| Équation | Insérer une équation en format LaTeX \\$c = \\sqrt \\left( a^2 + b^2 \\right)\\$ |\n",
    "```"
   ]
  },
  {
   "cell_type": "markdown",
   "metadata": {},
   "source": [
    "### Cellule de code\n",
    "\n",
    "Il était suggéré au cours de ce chapitre d'entrer les commandes dans un terminal. À partir d'ici, il sera préférable d'utiliser un notebook à partir d'ici, et d'excécuter les calculs dans des cellules de code."
   ]
  },
  {
   "cell_type": "code",
   "execution_count": 2,
   "metadata": {},
   "outputs": [
    {
     "data": {
      "text/plain": [
       "2.5"
      ]
     },
     "execution_count": 2,
     "metadata": {},
     "output_type": "execute_result"
    }
   ],
   "source": [
    "a = 5/2\n",
    "a"
   ]
  }
 ],
 "metadata": {
  "anaconda-cloud": {},
  "kernel_info": {
   "name": "python3"
  },
  "kernelspec": {
   "display_name": "Python 3",
   "language": "python",
   "name": "python3"
  },
  "language_info": {
   "codemirror_mode": {
    "name": "ipython",
    "version": 3
   },
   "file_extension": ".py",
   "mimetype": "text/x-python",
   "name": "python",
   "nbconvert_exporter": "python",
   "pygments_lexer": "ipython3",
   "version": "3.6.2"
  }
 },
 "nbformat": 4,
 "nbformat_minor": 2
}
